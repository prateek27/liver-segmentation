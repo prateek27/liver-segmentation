{
 "cells": [
  {
   "cell_type": "code",
   "execution_count": 3,
   "metadata": {},
   "outputs": [
    {
     "name": "stderr",
     "output_type": "stream",
     "text": [
      "/anaconda/envs/py35/lib/python3.5/site-packages/dicom/__init__.py:53: UserWarning: \n",
      "This code is using an older version of pydicom, which is no longer \n",
      "maintained as of Jan 2017.  You can access the new pydicom features and API \n",
      "by installing `pydicom` from PyPI.\n",
      "See 'Transitioning to pydicom 1.x' section at pydicom.readthedocs.org \n",
      "for more information.\n",
      "\n",
      "  warnings.warn(msg)\n",
      "/anaconda/envs/py35/lib/python3.5/site-packages/h5py/__init__.py:36: FutureWarning: Conversion of the second argument of issubdtype from `float` to `np.floating` is deprecated. In future, it will be treated as `np.float64 == np.dtype(float).type`.\n",
      "  from ._conv import register_converters as _register_converters\n"
     ]
    }
   ],
   "source": [
    "import os\n",
    "from nibabel.testing import data_path\n",
    "import nibabel as nib\n",
    "import numpy as np\n",
    "import matplotlib.pyplot as plt\n",
    "import cv2"
   ]
  },
  {
   "cell_type": "code",
   "execution_count": 8,
   "metadata": {},
   "outputs": [],
   "source": [
    "# Read Files\n",
    "niftis_path = './Dataset/media/nas/01_Datasets/CT/LITS/Training Batch 1/'\n",
    "\n",
    "# Write Database here\n",
    "root_process_database = './LiTS_database/'\n",
    "\n",
    "folder_volumes = os.path.join(root_process_database, 'images_volumes/')\n",
    "folder_seg_liver = os.path.join(root_process_database, 'liver_seg/')\n",
    "folder_seg_item = os.path.join(root_process_database, 'item_seg/')\n",
    "\n"
   ]
  },
  {
   "cell_type": "code",
   "execution_count": 9,
   "metadata": {},
   "outputs": [
    {
     "ename": "FileNotFoundError",
     "evalue": "[Errno 2] No such file or directory: './LiTS_database/images_volumes/'",
     "output_type": "error",
     "traceback": [
      "\u001b[0;31m---------------------------------------------------------------------------\u001b[0m",
      "\u001b[0;31mFileNotFoundError\u001b[0m                         Traceback (most recent call last)",
      "\u001b[0;32m<ipython-input-9-1a30425aad8d>\u001b[0m in \u001b[0;36m<module>\u001b[0;34m()\u001b[0m\n\u001b[1;32m      1\u001b[0m \u001b[0;31m#Create Directories if they don't exist\u001b[0m\u001b[0;34m\u001b[0m\u001b[0;34m\u001b[0m\u001b[0m\n\u001b[1;32m      2\u001b[0m \u001b[0;32mif\u001b[0m\u001b[0;34m(\u001b[0m\u001b[0;32mnot\u001b[0m \u001b[0mos\u001b[0m\u001b[0;34m.\u001b[0m\u001b[0mpath\u001b[0m\u001b[0;34m.\u001b[0m\u001b[0misdir\u001b[0m\u001b[0;34m(\u001b[0m\u001b[0mfolder_volumes\u001b[0m\u001b[0;34m)\u001b[0m\u001b[0;34m)\u001b[0m\u001b[0;34m:\u001b[0m\u001b[0;34m\u001b[0m\u001b[0m\n\u001b[0;32m----> 3\u001b[0;31m     \u001b[0mos\u001b[0m\u001b[0;34m.\u001b[0m\u001b[0mmkdir\u001b[0m\u001b[0;34m(\u001b[0m\u001b[0mfolder_volumes\u001b[0m\u001b[0;34m)\u001b[0m\u001b[0;34m\u001b[0m\u001b[0m\n\u001b[0m\u001b[1;32m      4\u001b[0m \u001b[0;34m\u001b[0m\u001b[0m\n\u001b[1;32m      5\u001b[0m \u001b[0;32mif\u001b[0m\u001b[0;34m(\u001b[0m\u001b[0;32mnot\u001b[0m \u001b[0mos\u001b[0m\u001b[0;34m.\u001b[0m\u001b[0mpath\u001b[0m\u001b[0;34m.\u001b[0m\u001b[0misdir\u001b[0m\u001b[0;34m(\u001b[0m\u001b[0mfolder_seg_liver\u001b[0m\u001b[0;34m)\u001b[0m\u001b[0;34m)\u001b[0m\u001b[0;34m:\u001b[0m\u001b[0;34m\u001b[0m\u001b[0m\n",
      "\u001b[0;31mFileNotFoundError\u001b[0m: [Errno 2] No such file or directory: './LiTS_database/images_volumes/'"
     ]
    }
   ],
   "source": [
    "#Create Directories if they don't exist\n",
    "if(not os.path.isdir(folder_volumes)):\n",
    "    os.mkdir(folder_volumes)\n",
    "\n",
    "if(not os.path.isdir(folder_seg_liver)):\n",
    "    os.mkdir(folder_seg_liver)\n",
    "\n",
    "if(not os.path.isdir(folder_seg_item)):\n",
    "    os.mkdir(folder_seg_item)"
   ]
  },
  {
   "cell_type": "code",
   "execution_count": null,
   "metadata": {},
   "outputs": [],
   "source": [
    "files_dir = (niftis_path)\n",
    "copy_files_dir = files_dir\n",
    "filenames = []\n",
    "list_file_names = []\n",
    "\n",
    "os.listdir(files_dir)\n",
    "\n",
    "#Iterate in Batch Folder\n",
    "for f in os.listdir(files_dir):\n",
    "    if(f.endswith(\".nii\")):\n",
    "        filenames.append(f)\n",
    "\n"
   ]
  },
  {
   "cell_type": "code",
   "execution_count": 31,
   "metadata": {},
   "outputs": [
    {
     "name": "stdout",
     "output_type": "stream",
     "text": [
      "['segmentation-3.nii', 'volume-27.nii', 'volume-12.nii', 'volume-25.nii', 'volume-5.nii', 'segmentation-12.nii', 'segmentation-6.nii', 'volume-17.nii', 'volume-26.nii', 'volume-7.nii', 'segmentation-10.nii', 'volume-24.nii', 'segmentation-19.nii', 'volume-6.nii', 'segmentation-11.nii', 'volume-21.nii', 'volume-4.nii', 'segmentation-0.nii', 'volume-8.nii', 'volume-19.nii', 'volume-2.nii', 'segmentation-8.nii', 'volume-0.nii', 'segmentation-9.nii', 'segmentation-26.nii', 'segmentation-4.nii', 'volume-9.nii', 'segmentation-23.nii', 'segmentation-25.nii', 'volume-22.nii', 'volume-20.nii', 'volume-16.nii', 'volume-11.nii', 'segmentation-16.nii', 'volume-23.nii', 'volume-3.nii', 'segmentation-20.nii', 'segmentation-22.nii', 'volume-1.nii', 'segmentation-7.nii', 'segmentation-17.nii', 'segmentation-18.nii', 'segmentation-15.nii', 'segmentation-14.nii', 'segmentation-27.nii', 'segmentation-24.nii', 'volume-14.nii', 'volume-10.nii', 'segmentation-2.nii', 'volume-13.nii', 'segmentation-1.nii', 'volume-15.nii', 'volume-18.nii', 'segmentation-5.nii', 'segmentation-13.nii', 'segmentation-21.nii']\n"
     ]
    }
   ],
   "source": [
    "#print(filenames)"
   ]
  },
  {
   "cell_type": "code",
   "execution_count": 82,
   "metadata": {},
   "outputs": [],
   "source": [
    "filenames = ['volume-0.nii','segmentation-0.nii']"
   ]
  },
  {
   "cell_type": "code",
   "execution_count": 84,
   "metadata": {},
   "outputs": [
    {
     "name": "stdout",
     "output_type": "stream",
     "text": [
      "Processing Volume volume-0.nii\n",
      "Processing Segmentation segmentation-0.nii\n"
     ]
    }
   ],
   "source": [
    "for l in filenames:\n",
    "    \n",
    "    \n",
    "    if(l[0]=='v'):\n",
    "        print(\"Processing Volume %s\"%l)\n",
    "        path_file = os.path.join(niftis_path,l)\n",
    "        folder_volume = os.path.join(folder_volumes,l[8:-4])\n",
    "        volume = nib.load(path_file)\n",
    "        #print(volume.dataobj.shape)\n",
    "        imgs = volume.dataobj\n",
    "        imgs = np.array(imgs).astype('float32')\n",
    "        imgs[imgs<-150] = -150\n",
    "        imgs[imgs>250] = 250\n",
    "        #print(imgs.shape)\n",
    "        #print(imgs.min(axis=(0,1)).shape)\n",
    "        \n",
    "        img_volume = 255*(imgs - imgs.min(axis=(0,1)))/(imgs.max(axis=(0,1))-imgs.min(axis=(0,1)))\n",
    "        if(not os.path.isdir(folder_volume)):\n",
    "            os.mkdir(folder_volume)\n",
    "        #Iterate over image channels\n",
    "        for section_id in range(imgs.shape[-1]):\n",
    "            pass\n",
    "            section_filename = os.path.join(folder_volume,str(section_id)+\".npy\")\n",
    "            np.save(section_filename,img_volume[:,:,section_id])\n",
    "        \n",
    "      \n",
    "        \"\"\"\n",
    "        Actual Images - -150 to 250\n",
    "        Normalized Images - 0 to 255\n",
    "        \n",
    "        print(img_volume[:,:,0])\n",
    "        plt.imshow(img_volume[:,:,0],cmap='gray')\n",
    "        print(np.max(img_volume[:,:,0]))\n",
    "        print(np.min(img_volume[:,:,0]))\n",
    "        plt.show()\n",
    "        \n",
    "        plt.title(\"Actual\")\n",
    "        print(imgs[:,:,0])\n",
    "        plt.imshow(imgs[:,:,0],cmap='gray')\n",
    "        plt.show()\n",
    "        \"\"\"\n",
    "        \n",
    "        \n",
    "        \n",
    "    \n",
    "    elif(l[0]=='s'):\n",
    "        print(\"Processing Segmentation %s\"%l)\n",
    "        path_file = os.path.join(niftis_path, l)\n",
    "        index = l.index('-')\n",
    "        folder_seg_item_num = os.path.join(folder_seg_item, l[index+1:-4])\n",
    "        folder_seg_liver_num = os.path.join(folder_seg_liver,l[index+1:-4])\n",
    "        segmentation = nib.load(path_file)\n",
    "        \n",
    "    \n",
    "        img_seg = np.array(segmentation.dataobj).astype('uint8')\n",
    "        img_seg_item = np.copy(img_seg)\n",
    "        img_seg_liver = np.copy(img_seg)\n",
    "        \n",
    "        \n",
    "        #plt.imshow(img_seg[:,:,-20],cmap='gray')\n",
    "        #plt.show()\n",
    "        \n",
    "        #Binary Classification\n",
    "        img_seg_item[img_seg_item==1]=0\n",
    "        img_seg_item[img_seg_item==2]=1\n",
    "        \n",
    "        #Treat tumour pixels as liver mass\n",
    "        img_seg_liver[img_seg_item==1]=1\n",
    "        \n",
    "        #actually a liver\n",
    "        img_seg_liver[img_seg_liver==2]=1\n",
    "        \n",
    "        \n",
    "        #print(np.unique(img_seg_liver,return_counts=True))\n",
    "        \n",
    "        #plt.imshow(img_seg_liver[:,:,-20],cmap='gray')\n",
    "        #plt.show()\n",
    "        \n",
    "        #Create Directory for Lesions\n",
    "        if not os.path.isdir(folder_seg_item_num):\n",
    "            os.mkdir(folder_seg_item_num)\n",
    "            \n",
    "        #Create Directory for Liver\n",
    "        if not os.path.isdir(folder_seg_liver_num):\n",
    "            os.mkdir(folder_seg_liver_num)\n",
    "         \n",
    "        \n",
    "        for j in range(img_seg.shape[-1]):\n",
    "            \n",
    "            item_seg_section = img_seg_item[:,:,j]*255\n",
    "            liver_seg_section = img_seg_liver[:,:,j]*255\n",
    "            filename_for_seg_item_section = os.path.join(folder_seg_item_num, str(j)+'.png')\n",
    "            filename_for_seg_liver_section = os.path.join(folder_seg_liver_num,str(j)+'.png')\n",
    "            cv2.imwrite(filename_for_seg_item_section,item_seg_section)\n",
    "            cv2.imwrite(filename_for_seg_liver_section,liver_seg_section)\n",
    "            #plt.figure(j)\n",
    "            #plt.title(\"figure \"+str(j))\n",
    "            #plt.imshow(liver_seg_section,cmap='gray')\n",
    "            #plt.show()\n",
    "            "
   ]
  },
  {
   "cell_type": "code",
   "execution_count": 31,
   "metadata": {},
   "outputs": [
    {
     "name": "stderr",
     "output_type": "stream",
     "text": [
      "/anaconda/envs/py35/lib/python3.5/site-packages/scipy/ndimage/measurements.py:272: DeprecationWarning: In future, it will be an error for 'np.bool_' scalars to be interpreted as an index\n",
      "  return _nd_image.find_objects(input, max_label)\n"
     ]
    },
    {
     "data": {
      "text/plain": [
       "<nilearn.plotting.displays.OrthoSlicer at 0x7f47dad26be0>"
      ]
     },
     "execution_count": 31,
     "metadata": {},
     "output_type": "execute_result"
    },
    {
     "data": {
      "image/png": "[encoded data removed]",
      "text/plain": [
       "<Figure size 475.2x187.2 with 4 Axes>"
      ]
     },
     "metadata": {},
     "output_type": "display_data"
    }
   ],
   "source": [
    "plotting.plot_img(imgs)"
   ]
  },
  {
   "cell_type": "code",
   "execution_count": null,
   "metadata": {},
   "outputs": [],
   "source": []
  }
 ],
 "metadata": {
  "kernelspec": {
   "display_name": "Python [conda env:py35]",
   "language": "python",
   "name": "conda-env-py35-py"
  },
  "language_info": {
   "codemirror_mode": {
    "name": "ipython",
    "version": 3
   },
   "file_extension": ".py",
   "mimetype": "text/x-python",
   "name": "python",
   "nbconvert_exporter": "python",
   "pygments_lexer": "ipython3",
   "version": "3.5.5"
  }
 },
 "nbformat": 4,
 "nbformat_minor": 2
}
