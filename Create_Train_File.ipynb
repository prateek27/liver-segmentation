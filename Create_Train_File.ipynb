{
 "cells": [
  {
   "cell_type": "code",
   "execution_count": 42,
   "metadata": {},
   "outputs": [],
   "source": [
    "# Creates a Training Dataset TXT File as mentioned here https://github.com/imatge-upc/liverseg-2017-nipsws for training liver segmentation"
   ]
  },
  {
   "cell_type": "code",
   "execution_count": 3,
   "metadata": {},
   "outputs": [],
   "source": [
    "import os"
   ]
  },
  {
   "cell_type": "code",
   "execution_count": 4,
   "metadata": {},
   "outputs": [],
   "source": [
    "BASE_PATH = \"./liverseg-2017-nipsws/LiTS_database/\""
   ]
  },
  {
   "cell_type": "code",
   "execution_count": 5,
   "metadata": {},
   "outputs": [
    {
     "name": "stdout",
     "output_type": "stream",
     "text": [
      "['liver_seg', 'item_seg', 'images_volumes']\n"
     ]
    }
   ],
   "source": [
    "folders = os.listdir(BASE_PATH)\n",
    "print(folders)"
   ]
  },
  {
   "cell_type": "code",
   "execution_count": 6,
   "metadata": {},
   "outputs": [],
   "source": [
    "LIVER_PATH = os.path.join(BASE_PATH,\"liver_seg\")\n",
    "ITEM_PATH = os.path.join(BASE_PATH,\"item_seg\")\n",
    "VOL_PATH = os.path.join(BASE_PATH,\"images_volumes\")\n",
    "\n"
   ]
  },
  {
   "cell_type": "code",
   "execution_count": 7,
   "metadata": {},
   "outputs": [],
   "source": [
    "X_files = []\n",
    "Y_files = []\n",
    "\n",
    "for folder in os.listdir(LIVER_PATH):\n",
    "    folder_path = os.path.join(VOL_PATH,folder)\n",
    "    for liver_npy in os.listdir(folder_path):\n",
    "        p1 = os.path.join(\"image_volumes/\"+folder,liver_npy)\n",
    "        p2 = os.path.join(\"liver_seg/\"+folder,liver_npy[:-4]+\".png\")\n",
    "        X_files.append(p1)\n",
    "        Y_files.append(p2)"
   ]
  },
  {
   "cell_type": "code",
   "execution_count": 8,
   "metadata": {},
   "outputs": [
    {
     "name": "stdout",
     "output_type": "stream",
     "text": [
      "58638\n"
     ]
    }
   ],
   "source": [
    "print(len(X_files))"
   ]
  },
  {
   "cell_type": "code",
   "execution_count": 9,
   "metadata": {},
   "outputs": [
    {
     "data": {
      "text/plain": [
       "['image_volumes/9/287.npy',\n",
       " 'image_volumes/9/345.npy',\n",
       " 'image_volumes/9/336.npy',\n",
       " 'image_volumes/9/395.npy',\n",
       " 'image_volumes/9/379.npy']"
      ]
     },
     "execution_count": 9,
     "metadata": {},
     "output_type": "execute_result"
    }
   ],
   "source": [
    "X_files[:5]"
   ]
  },
  {
   "cell_type": "code",
   "execution_count": 10,
   "metadata": {},
   "outputs": [
    {
     "name": "stdout",
     "output_type": "stream",
     "text": [
      "58638\n"
     ]
    }
   ],
   "source": [
    "print(len(Y_files))"
   ]
  },
  {
   "cell_type": "code",
   "execution_count": 30,
   "metadata": {},
   "outputs": [
    {
     "data": {
      "text/plain": [
       "['liver_seg/9/287.png',\n",
       " 'liver_seg/9/345.png',\n",
       " 'liver_seg/9/336.png',\n",
       " 'liver_seg/9/395.png',\n",
       " 'liver_seg/9/379.png']"
      ]
     },
     "execution_count": 30,
     "metadata": {},
     "output_type": "execute_result"
    }
   ],
   "source": [
    "Y_files[:5]"
   ]
  },
  {
   "cell_type": "code",
   "execution_count": 31,
   "metadata": {},
   "outputs": [
    {
     "name": "stdout",
     "output_type": "stream",
     "text": [
      "58638\n"
     ]
    }
   ],
   "source": [
    "total_files = int(len(X_files)/3)*3\n",
    "print(total_files)\n",
    "    "
   ]
  },
  {
   "cell_type": "code",
   "execution_count": 15,
   "metadata": {},
   "outputs": [
    {
     "name": "stdout",
     "output_type": "stream",
     "text": [
      "52774\n"
     ]
    }
   ],
   "source": [
    "split = int(0.9*len(X_files))\n",
    "print(split)"
   ]
  },
  {
   "cell_type": "code",
   "execution_count": 19,
   "metadata": {},
   "outputs": [],
   "source": [
    "X = X_files[:split]\n",
    "Y = Y_files[:split]\n"
   ]
  },
  {
   "cell_type": "code",
   "execution_count": 31,
   "metadata": {},
   "outputs": [],
   "source": [
    "XT = X_files[split:]\n",
    "YT = Y_files[split:]\n",
    "#print(len(XT))"
   ]
  },
  {
   "cell_type": "code",
   "execution_count": 28,
   "metadata": {},
   "outputs": [],
   "source": [
    "def writeToFile(X,Y,filename):\n",
    "    with open(filename,'w') as f:\n",
    "        t = (len(X)//3)*3\n",
    "        for i in range(0,t,3):\n",
    "            line = \" \".join([X[i],Y[i],Y[i],X[i+1],Y[i+1],Y[i+1],X[i+2],Y[i+2],Y[i+2],'\\n'])\n",
    "            f.writelines(line)  "
   ]
  },
  {
   "cell_type": "code",
   "execution_count": 29,
   "metadata": {},
   "outputs": [],
   "source": [
    "writeToFile(X,Y,\"train_file.txt\")"
   ]
  },
  {
   "cell_type": "code",
   "execution_count": 32,
   "metadata": {},
   "outputs": [],
   "source": [
    "writeToFile(XT,YT,\"test_file.txt\")"
   ]
  },
  {
   "cell_type": "code",
   "execution_count": null,
   "metadata": {},
   "outputs": [],
   "source": []
  }
 ],
 "metadata": {
  "kernelspec": {
   "display_name": "Python 3.6 - AzureML",
   "language": "python",
   "name": "python3-azureml"
  },
  "language_info": {
   "codemirror_mode": {
    "name": "ipython",
    "version": 3
   },
   "file_extension": ".py",
   "mimetype": "text/x-python",
   "name": "python",
   "nbconvert_exporter": "python",
   "pygments_lexer": "ipython3",
   "version": "3.6.8"
  }
 },
 "nbformat": 4,
 "nbformat_minor": 2
}
