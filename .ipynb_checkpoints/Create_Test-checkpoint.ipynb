{
 "cells": [
  {
   "cell_type": "code",
   "execution_count": 42,
   "metadata": {},
   "outputs": [],
   "source": [
    "# Creates a Training Dataset TXT File as mentioned here https://github.com/imatge-upc/liverseg-2017-nipsws for training liver segmentation"
   ]
  },
  {
   "cell_type": "code",
   "execution_count": 1,
   "metadata": {},
   "outputs": [],
   "source": [
    "import os"
   ]
  },
  {
   "cell_type": "code",
   "execution_count": 51,
   "metadata": {},
   "outputs": [],
   "source": [
    "TEST_PATH = \"liverseg-2017-nipsws/LiTS_database/\"\n",
    "FOLDER_PATH = \"image_volumes\"\n",
    "\n",
    "TEST_PATH += FOLDER_PATH\n",
    "#print(TEST_PATH)\n"
   ]
  },
  {
   "cell_type": "code",
   "execution_count": 69,
   "metadata": {},
   "outputs": [],
   "source": [
    "X_files = []\n",
    "\n",
    "\n",
    "for p in os.listdir(TEST_PATH):\n",
    "    path = os.path.join(FOLDER_PATH,p)\n",
    "    for f in os.listdir(os.path.join(TEST_PATH,p)):\n",
    "        X_files.append(os.path.join(FOLDER_PATH,p,f))"
   ]
  },
  {
   "cell_type": "code",
   "execution_count": 70,
   "metadata": {},
   "outputs": [
    {
     "name": "stdout",
     "output_type": "stream",
     "text": [
      "58638\n"
     ]
    }
   ],
   "source": [
    "print(len(X_files))"
   ]
  },
  {
   "cell_type": "code",
   "execution_count": 71,
   "metadata": {},
   "outputs": [
    {
     "data": {
      "text/plain": [
       "['image_volumes/9/287.npy',\n",
       " 'image_volumes/9/345.npy',\n",
       " 'image_volumes/9/336.npy',\n",
       " 'image_volumes/9/395.npy',\n",
       " 'image_volumes/9/379.npy']"
      ]
     },
     "execution_count": 71,
     "metadata": {},
     "output_type": "execute_result"
    }
   ],
   "source": [
    "X_files[:5]"
   ]
  },
  {
   "cell_type": "code",
   "execution_count": null,
   "metadata": {},
   "outputs": [],
   "source": []
  },
  {
   "cell_type": "code",
   "execution_count": 73,
   "metadata": {},
   "outputs": [
    {
     "name": "stdout",
     "output_type": "stream",
     "text": [
      "58638\n"
     ]
    }
   ],
   "source": [
    "total_files = int(len(X_files)/3)*3\n",
    "print(total_files)\n",
    "    "
   ]
  },
  {
   "cell_type": "code",
   "execution_count": null,
   "metadata": {},
   "outputs": [],
   "source": []
  },
  {
   "cell_type": "code",
   "execution_count": null,
   "metadata": {},
   "outputs": [],
   "source": []
  },
  {
   "cell_type": "code",
   "execution_count": null,
   "metadata": {},
   "outputs": [],
   "source": []
  },
  {
   "cell_type": "code",
   "execution_count": 28,
   "metadata": {},
   "outputs": [],
   "source": [
    "def writeToFile(X,Y,filename):\n",
    "    with open(filename,'w') as f:\n",
    "        t = (len(X)//3)*3\n",
    "        s = \"dummy.png\"\n",
    "        for i in range(0,t,3):\n",
    "            line = \" \".join([X[i],Y[i],Y[i],X[i+1],Y[i+1],Y[i+1],X[i+2],Y[i+2],Y[i+2],'\\n'])\n",
    "            f.writelines(line)  "
   ]
  },
  {
   "cell_type": "code",
   "execution_count": 29,
   "metadata": {},
   "outputs": [],
   "source": [
    "writeToFile(X,Y,\"train_file.txt\")"
   ]
  },
  {
   "cell_type": "code",
   "execution_count": 32,
   "metadata": {},
   "outputs": [],
   "source": [
    "writeToFile(XT,YT,\"test_file.txt\")"
   ]
  },
  {
   "cell_type": "code",
   "execution_count": null,
   "metadata": {},
   "outputs": [],
   "source": []
  }
 ],
 "metadata": {
  "kernelspec": {
   "display_name": "Python 3.6 - AzureML",
   "language": "python",
   "name": "python3-azureml"
  },
  "language_info": {
   "codemirror_mode": {
    "name": "ipython",
    "version": 3
   },
   "file_extension": ".py",
   "mimetype": "text/x-python",
   "name": "python",
   "nbconvert_exporter": "python",
   "pygments_lexer": "ipython3",
   "version": "3.6.8"
  }
 },
 "nbformat": 4,
 "nbformat_minor": 2
}
