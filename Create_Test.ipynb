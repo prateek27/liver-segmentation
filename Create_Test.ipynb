{
 "cells": [
  {
   "cell_type": "code",
   "execution_count": 42,
   "metadata": {},
   "outputs": [],
   "source": [
    "# Creates a Training Dataset TXT File as mentioned here https://github.com/imatge-upc/liverseg-2017-nipsws for training liver segmentation"
   ]
  },
  {
   "cell_type": "code",
   "execution_count": 17,
   "metadata": {},
   "outputs": [],
   "source": [
    "import os\n",
    "import sys"
   ]
  },
  {
   "cell_type": "code",
   "execution_count": 23,
   "metadata": {},
   "outputs": [],
   "source": [
    "TEST_PATH = \"liverseg-2017-nipsws/LiTS_database/\"\n",
    "FOLDER_PATH = \"image_volumes\"\n",
    "TEST_PATH +=FOLDER_PATH\n",
    "#print(TEST_PATH)\n"
   ]
  },
  {
   "cell_type": "code",
   "execution_count": 24,
   "metadata": {},
   "outputs": [],
   "source": [
    "X_files = []\n",
    "\n",
    "for p in os.listdir(TEST_PATH):\n",
    "    path = os.path.join(FOLDER_PATH,p)\n",
    "    for f in os.listdir(os.path.join(TEST_PATH,p)):\n",
    "        X_files.append(os.path.join(FOLDER_PATH,p,f))"
   ]
  },
  {
   "cell_type": "code",
   "execution_count": 25,
   "metadata": {},
   "outputs": [
    {
     "name": "stdout",
     "output_type": "stream",
     "text": [
      "58638\n"
     ]
    }
   ],
   "source": [
    "print(len(X_files))"
   ]
  },
  {
   "cell_type": "code",
   "execution_count": 26,
   "metadata": {},
   "outputs": [
    {
     "data": {
      "text/plain": [
       "['image_volumes/9/287.npy',\n",
       " 'image_volumes/9/345.npy',\n",
       " 'image_volumes/9/336.npy',\n",
       " 'image_volumes/9/395.npy',\n",
       " 'image_volumes/9/379.npy']"
      ]
     },
     "execution_count": 26,
     "metadata": {},
     "output_type": "execute_result"
    }
   ],
   "source": [
    "X_files[:5]"
   ]
  },
  {
   "cell_type": "code",
   "execution_count": 27,
   "metadata": {},
   "outputs": [
    {
     "name": "stdout",
     "output_type": "stream",
     "text": [
      "58638\n"
     ]
    }
   ],
   "source": [
    "total_files = int(len(X_files)/3)*3\n",
    "print(total_files)\n",
    "    "
   ]
  },
  {
   "cell_type": "code",
   "execution_count": 28,
   "metadata": {},
   "outputs": [],
   "source": [
    "def writeToFile(X,filename):\n",
    "    with open(filename,'w') as f:\n",
    "        t = (len(X)//3)*3\n",
    "        s = \"dummy.png\"\n",
    "        for i in range(0,t,3):\n",
    "            line = \" \".join([X[i],s,s,X[i+1],s,s,X[i+2],s,s,'\\n'])\n",
    "            f.writelines(line)  "
   ]
  },
  {
   "cell_type": "code",
   "execution_count": 29,
   "metadata": {},
   "outputs": [],
   "source": [
    "writeToFile(X_files,\"liverseg-2017-nipsws/seg_DatasetList/test.txt\")"
   ]
  },
  {
   "cell_type": "code",
   "execution_count": null,
   "metadata": {},
   "outputs": [],
   "source": []
  },
  {
   "cell_type": "code",
   "execution_count": null,
   "metadata": {},
   "outputs": [],
   "source": []
  }
 ],
 "metadata": {
  "kernelspec": {
   "display_name": "Python 3.6 - AzureML",
   "language": "python",
   "name": "python3-azureml"
  },
  "language_info": {
   "codemirror_mode": {
    "name": "ipython",
    "version": 3
   },
   "file_extension": ".py",
   "mimetype": "text/x-python",
   "name": "python",
   "nbconvert_exporter": "python",
   "pygments_lexer": "ipython3",
   "version": "3.6.8"
  }
 },
 "nbformat": 4,
 "nbformat_minor": 2
}
