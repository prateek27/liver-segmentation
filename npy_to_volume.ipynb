{
 "cells": [
  {
   "cell_type": "code",
   "execution_count": 2,
   "metadata": {},
   "outputs": [
    {
     "name": "stderr",
     "output_type": "stream",
     "text": [
      "/anaconda/envs/py35/lib/python3.5/site-packages/dicom/__init__.py:53: UserWarning: \n",
      "This code is using an older version of pydicom, which is no longer \n",
      "maintained as of Jan 2017.  You can access the new pydicom features and API \n",
      "by installing `pydicom` from PyPI.\n",
      "See 'Transitioning to pydicom 1.x' section at pydicom.readthedocs.org \n",
      "for more information.\n",
      "\n",
      "  warnings.warn(msg)\n",
      "/anaconda/envs/py35/lib/python3.5/site-packages/h5py/__init__.py:36: FutureWarning: Conversion of the second argument of issubdtype from `float` to `np.floating` is deprecated. In future, it will be treated as `np.float64 == np.dtype(float).type`.\n",
      "  from ._conv import register_converters as _register_converters\n"
     ]
    }
   ],
   "source": [
    "import os\n",
    "from nibabel.testing import data_path\n",
    "import nibabel as nib\n",
    "import numpy as np\n",
    "import matplotlib.pyplot as plt\n",
    "import cv2"
   ]
  },
  {
   "cell_type": "code",
   "execution_count": 20,
   "metadata": {},
   "outputs": [],
   "source": [
    "#\"liverseg-2017-nipsws/LiTS_database/liver_seg/\"\n",
    "RESULTS_PATH = \"liverseg-2017-nipsws/results/seg_liver\" # seg_liver_ck"
   ]
  },
  {
   "cell_type": "code",
   "execution_count": 5,
   "metadata": {},
   "outputs": [
    {
     "data": {
      "image/png": "[encoded data removed]",
      "text/plain": [
       "<Figure size 432x288 with 1 Axes>"
      ]
     },
     "metadata": {},
     "output_type": "display_data"
    }
   ],
   "source": [
    "for folder_no in os.listdir(RESULTS_PATH):\n",
    "    path = os.path.join(RESULTS_PATH,folder_no)\n",
    "    \n",
    "    for img in os.listdir(path):\n",
    "        img = np.load(os.path.join(path,img)).astype('int32')\n",
    "        plt.imshow(img,cmap='gray')\n",
    "        #plt.show()\n",
    "        #print(img)    "
   ]
  },
  {
   "cell_type": "code",
   "execution_count": 21,
   "metadata": {},
   "outputs": [],
   "source": [
    "for folder_no in os.listdir(RESULTS_PATH):\n",
    "    path = os.path.join(RESULTS_PATH,folder_no)\n",
    "    \n",
    "    max_channel = max([int(idx[:-4]) for idx in os.listdir(path)])\n",
    "    img_volume = np.zeros((512,512,max_channel+1))\n",
    "    \n",
    "    for img in os.listdir(path):\n",
    "        idx = int(img[:-4])\n",
    "        \n",
    "        img = np.load(os.path.join(path,img))\n",
    "        img_volume[:,:,idx] = img\n",
    "        \n",
    "    np.save(\"liverseg-2017-nipsws/results/output_volumes/\"+folder_no+\".npy\",img_volume)"
   ]
  },
  {
   "cell_type": "code",
   "execution_count": null,
   "metadata": {},
   "outputs": [],
   "source": []
  }
 ],
 "metadata": {
  "kernelspec": {
   "display_name": "Python [conda env:py35]",
   "language": "python",
   "name": "conda-env-py35-py"
  },
  "language_info": {
   "codemirror_mode": {
    "name": "ipython",
    "version": 3
   },
   "file_extension": ".py",
   "mimetype": "text/x-python",
   "name": "python",
   "nbconvert_exporter": "python",
   "pygments_lexer": "ipython3",
   "version": "3.5.5"
  }
 },
 "nbformat": 4,
 "nbformat_minor": 2
}
